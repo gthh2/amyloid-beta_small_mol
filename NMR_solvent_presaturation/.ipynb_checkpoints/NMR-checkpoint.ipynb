{
 "cells": [
  {
   "cell_type": "markdown",
   "metadata": {},
   "source": [
    "This notebook shows the data from the NMR water pres-aturation experiments of monomeric amyloid beta (AB) in the absence and presence the small molecule, 10074-G5, collected at 15C."
   ]
  },
  {
   "cell_type": "code",
   "execution_count": 1,
   "metadata": {
    "collapsed": true
   },
   "outputs": [],
   "source": [
    "#import useful things\n",
    "import numpy as np\n",
    "import pandas as pd\n",
    "import math\n",
    "import matplotlib.pyplot as plt; plt.rcdefaults()\n",
    "%matplotlib inline"
   ]
  },
  {
   "cell_type": "code",
   "execution_count": 3,
   "metadata": {
    "collapsed": true
   },
   "outputs": [],
   "source": [
    "#load in data\n",
    "AB_alone        = pd.read_csv('AB_alone.csv',        header=None).values.flatten()\n",
    "AB_with_10074G5 = pd.read_csv('AB_with_10074G5.csv', header=None).values.flatten()"
   ]
  },
  {
   "cell_type": "code",
   "execution_count": 33,
   "metadata": {},
   "outputs": [
    {
     "data": {
      "image/png": "[encoded data removed]",
      "text/plain": [
       "<matplotlib.figure.Figure at 0x1217b4b38>"
      ]
     },
     "metadata": {},
     "output_type": "display_data"
    }
   ],
   "source": [
    "#make I/I_0 bar plot\n",
    "residues = np.arange(1,43)\n",
    "\n",
    "width = 0.4\n",
    "fig = plt.figure()\n",
    "ax = fig.add_subplot(111)\n",
    "\n",
    "ax.bar(residues, AB_alone, width, label='AB alone', color='gray')\n",
    "ax.bar(residues+width, AB_with_10074G5, width, label='AB with 10074-G5', color='blue')\n",
    "\n",
    "plt.title(\"I/I$_0$ with water pre-saturation\")\n",
    "plt.xlabel(\"Residue\")\n",
    "plt.ylabel(\"I/I$_0$\")\n",
    "plt.legend(loc=\"upper left\")\n",
    "plt.show()"
   ]
  }
 ],
 "metadata": {
  "kernelspec": {
   "display_name": "Python 3",
   "language": "python",
   "name": "python3"
  },
  "language_info": {
   "codemirror_mode": {
    "name": "ipython",
    "version": 3
   },
   "file_extension": ".py",
   "mimetype": "text/x-python",
   "name": "python",
   "nbconvert_exporter": "python",
   "pygments_lexer": "ipython3",
   "version": "3.6.8"
  }
 },
 "nbformat": 4,
 "nbformat_minor": 2
}
