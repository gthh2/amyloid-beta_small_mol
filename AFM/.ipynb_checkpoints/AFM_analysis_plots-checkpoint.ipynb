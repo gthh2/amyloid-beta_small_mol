{
 "cells": [
  {
   "cell_type": "markdown",
   "metadata": {},
   "source": [
    "This notebook describes the analysis of Atomic Force Microscopy (AFM) experiments of amyloid beta (AB) fibrils formed in the absence and presence the small molecule, 10074-G5.\n",
    "Fibrils were formed using 1 uM amyloid beta in the absence and presence of 6 uM 10074-G5 at 37 degrees C."
   ]
  },
  {
   "cell_type": "code",
   "execution_count": 59,
   "metadata": {
    "collapsed": true
   },
   "outputs": [],
   "source": [
    "#import useful things\n",
    "import numpy as np\n",
    "import pandas as pd\n",
    "import math\n",
    "import matplotlib.pyplot as plt; plt.rcdefaults()\n",
    "%matplotlib inline"
   ]
  },
  {
   "cell_type": "code",
   "execution_count": 92,
   "metadata": {
    "collapsed": true
   },
   "outputs": [],
   "source": [
    "import matplotlib.colors as clr\n",
    "red_dark = (0.4431,0.1059,0.0941) \n",
    "red_light = (0.6392, 0.4118,0.3882)\n",
    "\n",
    "salmon_dark = (0.7255, 0.2667, 0.1922) \n",
    "salmon_light = (0.8235, 0.5490, 0.4902)\n",
    "\n",
    "orange_dark = (0.7686, 0.4196, 0.1882)\n",
    "orange_light = (0.8588, 0.6627, 0.4667)\n",
    "\n",
    "lemon_dark = (0.9412, 0.8902, 0.3176)\n",
    "lemon_light = (0.9725, 0.9529, 0.5490)\n",
    "\n",
    "snot_dark = (0.8941, 0.8667, 0.4784)\n",
    "snot_light = (0.9412, 0.9255, 0.6980)\n",
    "\n",
    "keylime_dark = (0.8353, 0.9373, 0.5451)\n",
    "keylime_light = (0.9216, 0.9725, 0.7412)\n",
    "\n",
    "frog_dark = (0.6431, 0.8118, 0.6078)\n",
    "frog_light = (0.8000, 0.9059, 0.7804)\n",
    "\n",
    "midgreen_dark = (0.6902, 0.8863, 0.7176)\n",
    "midgreen_light = (0.8157, 0.9333, 0.8471)\n",
    "\n",
    "mint_dark = (0.6588, 0.8902, 0.8000)\n",
    "mint_light = (0.7882, 0.9373, 0.8902)\n",
    "dark_green = (0.3725,0.5804, 0.4588)\n",
    "denim_dark = (0.2667, 0.6275, 0.7725)\n",
    "denim_light = (0.6549, 0.7765, 0.8941)"
   ]
  },
  {
   "cell_type": "code",
   "execution_count": 60,
   "metadata": {
    "collapsed": true
   },
   "outputs": [],
   "source": [
    "#load in data\n",
    "AB_2_5hours = pd.read_csv('amyloid_beta_2.5hours.csv',  header=None).values.flatten()\n",
    "G5_2_5hours = pd.read_csv('10074G5_2.5hours.csv',  header=None).values.flatten()\n",
    "\n",
    "AB_7_5hours = pd.read_csv('amyloid_beta_7.5hours.csv',  header=None).values.flatten()\n",
    "G5_7_5hours = pd.read_csv('10074G5_7.5hours.csv',  header=None).values.flatten()\n"
   ]
  },
  {
   "cell_type": "code",
   "execution_count": 104,
   "metadata": {},
   "outputs": [
    {
     "data": {
      "image/png": "[encoded data removed]",
      "text/plain": [
       "<matplotlib.figure.Figure at 0x122258a20>"
      ]
     },
     "metadata": {},
     "output_type": "display_data"
    }
   ],
   "source": [
    "#Plot histograms at 2.5 hours\n",
    "bins = np.linspace(0, 17, 35)\n",
    "\n",
    "from matplotlib.ticker import StrMethodFormatter\n",
    "\n",
    "denim_dark = (0.4667, 0.5961, 0.8196)\n",
    "#denim_light = (0.6549, 0.7765, 0.8941)\n",
    "\n",
    "#This plot is made from top frames\n",
    "plt.rcParams['font.serif'] = \"Arial\"\n",
    "# Then, \"ALWAYS use sans-serif fonts\"\n",
    "plt.rcParams['font.family'] = \"serif\"\n",
    "\n",
    "\n",
    "fig, ax = plt.subplots()\n",
    "\n",
    "# Add some text for labels, title and custom x-axis tick labels, etc.\n",
    "ax.set_ylabel('Probability density', fontname=\"Arial\", fontsize=12)\n",
    "ax.set_xlabel('Fibril height (nm)', fontname=\"Arial\", fontsize=12)\n",
    "#ax.set_title('Scores by group and gender')\n",
    "ax.xaxis.tick_bottom()\n",
    "\n",
    "plt.hist(AB_2_5hours, bins, density=True, color=red_dark,  histtype='step', label='AB alone')\n",
    "plt.hist(G5_2_5hours, bins, density=True, color=denim_dark, histtype='step', label='+ 10074-G5')\n",
    "\n",
    "\n",
    "ax.legend()\n",
    "ax.tick_params(labeltop=False)\n",
    "ax.tick_params(labelbottom=True)\n",
    "ax.xaxis.set_label_position('bottom')\n",
    "ax.set_ylim([0,1.2])\n",
    "\n",
    "fig.set_size_inches(3, 2)\n",
    "\n",
    "#fig.tight_layout()\n",
    "ax.spines['right'].set_visible(False)\n",
    "ax.spines['bottom'].set_visible(True)\n",
    "ax.spines['top'].set_visible(False)\n",
    "ax.tick_params(axis='both', which='major', labelsize=12)\n",
    "\n",
    "fig_size = plt.rcParams[\"figure.figsize\"]\n",
    "plt.gca().yaxis.set_major_formatter(StrMethodFormatter('{x:,.1f}')) # 2 decimal places\n",
    "\n",
    "plt.savefig('AFM_2_5h.eps', format='eps', dpi=5000, transparent=True)\n",
    "ax.get_legend().remove()\n",
    "\n",
    "plt.show()\n",
    "\n",
    "\n",
    "\n"
   ]
  },
  {
   "cell_type": "code",
   "execution_count": 27,
   "metadata": {},
   "outputs": [
    {
     "data": {
      "image/png": "[encoded data removed]",
      "text/plain": [
       "<matplotlib.figure.Figure at 0x1221299b0>"
      ]
     },
     "metadata": {},
     "output_type": "display_data"
    }
   ],
   "source": [
    "#Plot histograms at 7.5 hours\n",
    "\n",
    "bins = np.linspace(0, 10.2, 35)\n",
    "plt.hist(AB_7_5hours, bins, density=True, color='red', histtype='step', label='AB alone')\n",
    "plt.hist(G5_7_5hours, bins, density=True, color='blue', histtype='step', label='+ 10074-G5')\n",
    "plt.title(\"7.5 hours\")\n",
    "plt.xlabel(\"Fibril height (nm)\")\n",
    "plt.ylabel(\"Probability density\")\n",
    "plt.legend(loc=\"upper right\")\n",
    "plt.show()"
   ]
  },
  {
   "cell_type": "code",
   "execution_count": null,
   "metadata": {},
   "outputs": [],
   "source": []
  },
  {
   "cell_type": "code",
   "execution_count": 103,
   "metadata": {},
   "outputs": [
    {
     "data": {
      "image/png": "[encoded data removed]",
      "text/plain": [
       "<matplotlib.figure.Figure at 0x121b4f9e8>"
      ]
     },
     "metadata": {},
     "output_type": "display_data"
    }
   ],
   "source": [
    "#Plot histograms at 2.5 hours\n",
    "bins = np.linspace(0, 17, 35)\n",
    "\n",
    "from matplotlib.ticker import StrMethodFormatter\n",
    "\n",
    "\n",
    "#This plot is made from top frames\n",
    "plt.rcParams['font.serif'] = \"Arial\"\n",
    "# Then, \"ALWAYS use sans-serif fonts\"\n",
    "plt.rcParams['font.family'] = \"serif\"\n",
    "\n",
    "\n",
    "fig, ax = plt.subplots()\n",
    "\n",
    "# Add some text for labels, title and custom x-axis tick labels, etc.\n",
    "ax.set_ylabel('Probability density', fontname=\"Arial\", fontsize=12)\n",
    "ax.set_xlabel('Fibril height (nm)', fontname=\"Arial\", fontsize=12)\n",
    "ax.xaxis.tick_bottom()\n",
    "ax.set_ylim([0,1.2])\n",
    "plt.hist(AB_7_5hours, bins, density=True, color=red_dark,  histtype='step', label='AB alone')\n",
    "plt.hist(G5_7_5hours, bins, density=True, color=denim_dark, histtype='step', label='+ 10074-G5')\n",
    "\n",
    "\n",
    "ax.legend()\n",
    "ax.tick_params(labeltop=False)\n",
    "ax.tick_params(labelbottom=True)\n",
    "ax.xaxis.set_label_position('bottom')\n",
    "\n",
    "fig.set_size_inches(3, 2)\n",
    "\n",
    "#fig.tight_layout()\n",
    "ax.spines['right'].set_visible(False)\n",
    "ax.spines['bottom'].set_visible(True)\n",
    "ax.spines['top'].set_visible(False)\n",
    "ax.tick_params(axis='both', which='major', labelsize=12)\n",
    "\n",
    "fig_size = plt.rcParams[\"figure.figsize\"]\n",
    "plt.gca().yaxis.set_major_formatter(StrMethodFormatter('{x:,.1f}')) # 2 decimal places\n",
    "\n",
    "plt.savefig('AFM_7_5h.eps', format='eps', dpi=5000, transparent=True)\n",
    "ax.get_legend().remove()\n",
    "\n",
    "plt.show()\n",
    "\n",
    "\n",
    "\n"
   ]
  }
 ],
 "metadata": {
  "kernelspec": {
   "display_name": "Python 3",
   "language": "python",
   "name": "python3"
  },
  "language_info": {
   "codemirror_mode": {
    "name": "ipython",
    "version": 3
   },
   "file_extension": ".py",
   "mimetype": "text/x-python",
   "name": "python",
   "nbconvert_exporter": "python",
   "pygments_lexer": "ipython3",
   "version": "3.6.8"
  }
 },
 "nbformat": 4,
 "nbformat_minor": 2
}
